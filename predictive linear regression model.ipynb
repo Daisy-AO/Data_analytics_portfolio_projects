{
 "cells": [
  {
   "cell_type": "code",
   "execution_count": 1,
   "id": "2df48b9c",
   "metadata": {},
   "outputs": [],
   "source": [
    "# importing libraries\n",
    "%matplotlib inline\n",
    "import numpy as np\n",
    "import pandas as pd\n",
    "import sklearn\n",
    "import matplotlib.pyplot as plt\n",
    "\n",
    "import seaborn as sns\n",
    "import warnings\n",
    "warnings.filterwarnings('ignore')"
   ]
  },
  {
   "cell_type": "code",
   "execution_count": 2,
   "id": "2b12d220",
   "metadata": {},
   "outputs": [
    {
     "name": "stdout",
     "output_type": "stream",
     "text": [
      "(5802, 12)\n",
      "Index(['TOTAL_VALUE', 'TAX', 'LOT_SQFT', 'GROSS_AREA', 'LIVING_AREA', 'FLOORS',\n",
      "       'ROOMS', 'BEDROOMS', 'FULL_BATH', 'HALF_BATH', 'KITCHEN', 'FIREPLACE'],\n",
      "      dtype='object')\n"
     ]
    }
   ],
   "source": [
    "# Loading data\n",
    "house = pd.read_csv('house.csv')\n",
    "print(house.shape)\n",
    "print(house.columns)"
   ]
  },
  {
   "cell_type": "code",
   "execution_count": 3,
   "id": "b14f2f5a",
   "metadata": {},
   "outputs": [
    {
     "data": {
      "text/html": [
       "<div>\n",
       "<style scoped>\n",
       "    .dataframe tbody tr th:only-of-type {\n",
       "        vertical-align: middle;\n",
       "    }\n",
       "\n",
       "    .dataframe tbody tr th {\n",
       "        vertical-align: top;\n",
       "    }\n",
       "\n",
       "    .dataframe thead th {\n",
       "        text-align: right;\n",
       "    }\n",
       "</style>\n",
       "<table border=\"1\" class=\"dataframe\">\n",
       "  <thead>\n",
       "    <tr style=\"text-align: right;\">\n",
       "      <th></th>\n",
       "      <th>TOTAL_VALUE</th>\n",
       "      <th>TAX</th>\n",
       "      <th>LOT_SQFT</th>\n",
       "      <th>GROSS_AREA</th>\n",
       "      <th>LIVING_AREA</th>\n",
       "      <th>FLOORS</th>\n",
       "      <th>ROOMS</th>\n",
       "      <th>BEDROOMS</th>\n",
       "      <th>FULL_BATH</th>\n",
       "      <th>HALF_BATH</th>\n",
       "      <th>KITCHEN</th>\n",
       "      <th>FIREPLACE</th>\n",
       "    </tr>\n",
       "  </thead>\n",
       "  <tbody>\n",
       "    <tr>\n",
       "      <th>0</th>\n",
       "      <td>344.2</td>\n",
       "      <td>4330</td>\n",
       "      <td>9965</td>\n",
       "      <td>2436</td>\n",
       "      <td>1352</td>\n",
       "      <td>2.0</td>\n",
       "      <td>6</td>\n",
       "      <td>3</td>\n",
       "      <td>1</td>\n",
       "      <td>1</td>\n",
       "      <td>1</td>\n",
       "      <td>0</td>\n",
       "    </tr>\n",
       "    <tr>\n",
       "      <th>1</th>\n",
       "      <td>412.6</td>\n",
       "      <td>5190</td>\n",
       "      <td>6590</td>\n",
       "      <td>3108</td>\n",
       "      <td>1976</td>\n",
       "      <td>2.0</td>\n",
       "      <td>10</td>\n",
       "      <td>4</td>\n",
       "      <td>2</td>\n",
       "      <td>1</td>\n",
       "      <td>1</td>\n",
       "      <td>0</td>\n",
       "    </tr>\n",
       "    <tr>\n",
       "      <th>2</th>\n",
       "      <td>330.1</td>\n",
       "      <td>4152</td>\n",
       "      <td>7500</td>\n",
       "      <td>2294</td>\n",
       "      <td>1371</td>\n",
       "      <td>2.0</td>\n",
       "      <td>8</td>\n",
       "      <td>4</td>\n",
       "      <td>1</td>\n",
       "      <td>1</td>\n",
       "      <td>1</td>\n",
       "      <td>0</td>\n",
       "    </tr>\n",
       "    <tr>\n",
       "      <th>3</th>\n",
       "      <td>498.6</td>\n",
       "      <td>6272</td>\n",
       "      <td>13773</td>\n",
       "      <td>5032</td>\n",
       "      <td>2608</td>\n",
       "      <td>1.0</td>\n",
       "      <td>9</td>\n",
       "      <td>5</td>\n",
       "      <td>1</td>\n",
       "      <td>1</td>\n",
       "      <td>1</td>\n",
       "      <td>1</td>\n",
       "    </tr>\n",
       "    <tr>\n",
       "      <th>4</th>\n",
       "      <td>331.5</td>\n",
       "      <td>4170</td>\n",
       "      <td>5000</td>\n",
       "      <td>2370</td>\n",
       "      <td>1438</td>\n",
       "      <td>2.0</td>\n",
       "      <td>7</td>\n",
       "      <td>3</td>\n",
       "      <td>2</td>\n",
       "      <td>0</td>\n",
       "      <td>1</td>\n",
       "      <td>0</td>\n",
       "    </tr>\n",
       "    <tr>\n",
       "      <th>5</th>\n",
       "      <td>337.4</td>\n",
       "      <td>4244</td>\n",
       "      <td>5142</td>\n",
       "      <td>2124</td>\n",
       "      <td>1060</td>\n",
       "      <td>1.0</td>\n",
       "      <td>6</td>\n",
       "      <td>3</td>\n",
       "      <td>1</td>\n",
       "      <td>0</td>\n",
       "      <td>1</td>\n",
       "      <td>1</td>\n",
       "    </tr>\n",
       "    <tr>\n",
       "      <th>6</th>\n",
       "      <td>359.4</td>\n",
       "      <td>4521</td>\n",
       "      <td>5000</td>\n",
       "      <td>3220</td>\n",
       "      <td>1916</td>\n",
       "      <td>2.0</td>\n",
       "      <td>7</td>\n",
       "      <td>3</td>\n",
       "      <td>1</td>\n",
       "      <td>1</td>\n",
       "      <td>1</td>\n",
       "      <td>0</td>\n",
       "    </tr>\n",
       "    <tr>\n",
       "      <th>7</th>\n",
       "      <td>320.4</td>\n",
       "      <td>4030</td>\n",
       "      <td>10000</td>\n",
       "      <td>2208</td>\n",
       "      <td>1200</td>\n",
       "      <td>1.0</td>\n",
       "      <td>6</td>\n",
       "      <td>3</td>\n",
       "      <td>1</td>\n",
       "      <td>0</td>\n",
       "      <td>1</td>\n",
       "      <td>0</td>\n",
       "    </tr>\n",
       "    <tr>\n",
       "      <th>8</th>\n",
       "      <td>333.5</td>\n",
       "      <td>4195</td>\n",
       "      <td>6835</td>\n",
       "      <td>2582</td>\n",
       "      <td>1092</td>\n",
       "      <td>1.0</td>\n",
       "      <td>5</td>\n",
       "      <td>3</td>\n",
       "      <td>1</td>\n",
       "      <td>0</td>\n",
       "      <td>1</td>\n",
       "      <td>1</td>\n",
       "    </tr>\n",
       "    <tr>\n",
       "      <th>9</th>\n",
       "      <td>409.4</td>\n",
       "      <td>5150</td>\n",
       "      <td>5093</td>\n",
       "      <td>4818</td>\n",
       "      <td>2992</td>\n",
       "      <td>2.0</td>\n",
       "      <td>8</td>\n",
       "      <td>4</td>\n",
       "      <td>2</td>\n",
       "      <td>0</td>\n",
       "      <td>1</td>\n",
       "      <td>0</td>\n",
       "    </tr>\n",
       "    <tr>\n",
       "      <th>10</th>\n",
       "      <td>313.0</td>\n",
       "      <td>3937</td>\n",
       "      <td>5000</td>\n",
       "      <td>2624</td>\n",
       "      <td>1485</td>\n",
       "      <td>1.5</td>\n",
       "      <td>6</td>\n",
       "      <td>3</td>\n",
       "      <td>2</td>\n",
       "      <td>0</td>\n",
       "      <td>1</td>\n",
       "      <td>1</td>\n",
       "    </tr>\n",
       "    <tr>\n",
       "      <th>11</th>\n",
       "      <td>344.5</td>\n",
       "      <td>4333</td>\n",
       "      <td>6768</td>\n",
       "      <td>2844</td>\n",
       "      <td>1460</td>\n",
       "      <td>1.5</td>\n",
       "      <td>6</td>\n",
       "      <td>3</td>\n",
       "      <td>2</td>\n",
       "      <td>0</td>\n",
       "      <td>1</td>\n",
       "      <td>1</td>\n",
       "    </tr>\n",
       "    <tr>\n",
       "      <th>12</th>\n",
       "      <td>315.5</td>\n",
       "      <td>3968</td>\n",
       "      <td>5000</td>\n",
       "      <td>2196</td>\n",
       "      <td>1290</td>\n",
       "      <td>2.0</td>\n",
       "      <td>6</td>\n",
       "      <td>3</td>\n",
       "      <td>1</td>\n",
       "      <td>0</td>\n",
       "      <td>1</td>\n",
       "      <td>0</td>\n",
       "    </tr>\n",
       "    <tr>\n",
       "      <th>13</th>\n",
       "      <td>575.0</td>\n",
       "      <td>7233</td>\n",
       "      <td>12288</td>\n",
       "      <td>4616</td>\n",
       "      <td>2378</td>\n",
       "      <td>2.0</td>\n",
       "      <td>9</td>\n",
       "      <td>4</td>\n",
       "      <td>2</td>\n",
       "      <td>1</td>\n",
       "      <td>1</td>\n",
       "      <td>1</td>\n",
       "    </tr>\n",
       "    <tr>\n",
       "      <th>14</th>\n",
       "      <td>326.2</td>\n",
       "      <td>4103</td>\n",
       "      <td>5000</td>\n",
       "      <td>2536</td>\n",
       "      <td>1272</td>\n",
       "      <td>1.5</td>\n",
       "      <td>6</td>\n",
       "      <td>3</td>\n",
       "      <td>1</td>\n",
       "      <td>1</td>\n",
       "      <td>1</td>\n",
       "      <td>1</td>\n",
       "    </tr>\n",
       "    <tr>\n",
       "      <th>15</th>\n",
       "      <td>298.2</td>\n",
       "      <td>3751</td>\n",
       "      <td>5000</td>\n",
       "      <td>2129</td>\n",
       "      <td>864</td>\n",
       "      <td>1.0</td>\n",
       "      <td>7</td>\n",
       "      <td>3</td>\n",
       "      <td>2</td>\n",
       "      <td>0</td>\n",
       "      <td>1</td>\n",
       "      <td>0</td>\n",
       "    </tr>\n",
       "    <tr>\n",
       "      <th>16</th>\n",
       "      <td>313.1</td>\n",
       "      <td>3938</td>\n",
       "      <td>6949</td>\n",
       "      <td>2612</td>\n",
       "      <td>1438</td>\n",
       "      <td>1.5</td>\n",
       "      <td>7</td>\n",
       "      <td>3</td>\n",
       "      <td>1</td>\n",
       "      <td>1</td>\n",
       "      <td>1</td>\n",
       "      <td>0</td>\n",
       "    </tr>\n",
       "    <tr>\n",
       "      <th>17</th>\n",
       "      <td>344.9</td>\n",
       "      <td>4338</td>\n",
       "      <td>10000</td>\n",
       "      <td>2099</td>\n",
       "      <td>1445</td>\n",
       "      <td>1.0</td>\n",
       "      <td>7</td>\n",
       "      <td>3</td>\n",
       "      <td>1</td>\n",
       "      <td>1</td>\n",
       "      <td>1</td>\n",
       "      <td>1</td>\n",
       "    </tr>\n",
       "    <tr>\n",
       "      <th>18</th>\n",
       "      <td>330.7</td>\n",
       "      <td>4160</td>\n",
       "      <td>5000</td>\n",
       "      <td>2408</td>\n",
       "      <td>1470</td>\n",
       "      <td>2.0</td>\n",
       "      <td>7</td>\n",
       "      <td>3</td>\n",
       "      <td>1</td>\n",
       "      <td>0</td>\n",
       "      <td>1</td>\n",
       "      <td>0</td>\n",
       "    </tr>\n",
       "    <tr>\n",
       "      <th>19</th>\n",
       "      <td>348.0</td>\n",
       "      <td>4377</td>\n",
       "      <td>9001</td>\n",
       "      <td>2840</td>\n",
       "      <td>1632</td>\n",
       "      <td>2.0</td>\n",
       "      <td>7</td>\n",
       "      <td>3</td>\n",
       "      <td>1</td>\n",
       "      <td>0</td>\n",
       "      <td>1</td>\n",
       "      <td>0</td>\n",
       "    </tr>\n",
       "  </tbody>\n",
       "</table>\n",
       "</div>"
      ],
      "text/plain": [
       "    TOTAL_VALUE   TAX  LOT_SQFT  GROSS_AREA  LIVING_AREA  FLOORS  ROOMS  \\\n",
       "0         344.2  4330      9965        2436         1352     2.0      6   \n",
       "1         412.6  5190      6590        3108         1976     2.0     10   \n",
       "2         330.1  4152      7500        2294         1371     2.0      8   \n",
       "3         498.6  6272     13773        5032         2608     1.0      9   \n",
       "4         331.5  4170      5000        2370         1438     2.0      7   \n",
       "5         337.4  4244      5142        2124         1060     1.0      6   \n",
       "6         359.4  4521      5000        3220         1916     2.0      7   \n",
       "7         320.4  4030     10000        2208         1200     1.0      6   \n",
       "8         333.5  4195      6835        2582         1092     1.0      5   \n",
       "9         409.4  5150      5093        4818         2992     2.0      8   \n",
       "10        313.0  3937      5000        2624         1485     1.5      6   \n",
       "11        344.5  4333      6768        2844         1460     1.5      6   \n",
       "12        315.5  3968      5000        2196         1290     2.0      6   \n",
       "13        575.0  7233     12288        4616         2378     2.0      9   \n",
       "14        326.2  4103      5000        2536         1272     1.5      6   \n",
       "15        298.2  3751      5000        2129          864     1.0      7   \n",
       "16        313.1  3938      6949        2612         1438     1.5      7   \n",
       "17        344.9  4338     10000        2099         1445     1.0      7   \n",
       "18        330.7  4160      5000        2408         1470     2.0      7   \n",
       "19        348.0  4377      9001        2840         1632     2.0      7   \n",
       "\n",
       "    BEDROOMS  FULL_BATH  HALF_BATH  KITCHEN  FIREPLACE  \n",
       "0          3          1          1        1          0  \n",
       "1          4          2          1        1          0  \n",
       "2          4          1          1        1          0  \n",
       "3          5          1          1        1          1  \n",
       "4          3          2          0        1          0  \n",
       "5          3          1          0        1          1  \n",
       "6          3          1          1        1          0  \n",
       "7          3          1          0        1          0  \n",
       "8          3          1          0        1          1  \n",
       "9          4          2          0        1          0  \n",
       "10         3          2          0        1          1  \n",
       "11         3          2          0        1          1  \n",
       "12         3          1          0        1          0  \n",
       "13         4          2          1        1          1  \n",
       "14         3          1          1        1          1  \n",
       "15         3          2          0        1          0  \n",
       "16         3          1          1        1          0  \n",
       "17         3          1          1        1          1  \n",
       "18         3          1          0        1          0  \n",
       "19         3          1          0        1          0  "
      ]
     },
     "execution_count": 3,
     "metadata": {},
     "output_type": "execute_result"
    }
   ],
   "source": [
    "house.head(20)"
   ]
  },
  {
   "cell_type": "code",
   "execution_count": 4,
   "id": "2ba5295b",
   "metadata": {},
   "outputs": [],
   "source": [
    "# picking the predictors\n",
    "var = ['TAX', 'FLOORS', 'ROOMS']\n",
    "#choosing the predicted\n",
    "dependent_variable = ['TOTAL_VALUE']\n",
    "\n",
    "house_x= house[var] # independent variables\n",
    "house_y= house[dependent_variable] #dependent varaible"
   ]
  },
  {
   "cell_type": "code",
   "execution_count": 5,
   "id": "179ac3e8",
   "metadata": {},
   "outputs": [
    {
     "name": "stdout",
     "output_type": "stream",
     "text": [
      "(5802, 3)\n",
      "(5802, 1)\n"
     ]
    }
   ],
   "source": [
    "print (house_x.shape)\n",
    "print(house_y.shape)"
   ]
  },
  {
   "cell_type": "code",
   "execution_count": 6,
   "id": "c215a368",
   "metadata": {},
   "outputs": [
    {
     "data": {
      "text/plain": [
       "Index(['TOTAL_VALUE'], dtype='object')"
      ]
     },
     "execution_count": 6,
     "metadata": {},
     "output_type": "execute_result"
    }
   ],
   "source": [
    "house_y.columns"
   ]
  },
  {
   "cell_type": "code",
   "execution_count": 7,
   "id": "1744a465",
   "metadata": {},
   "outputs": [
    {
     "data": {
      "text/plain": [
       "(4061, 1741)"
      ]
     },
     "execution_count": 7,
     "metadata": {},
     "output_type": "execute_result"
    }
   ],
   "source": [
    "#splitting the data\n",
    "from sklearn.model_selection import train_test_split\n",
    "\n",
    "x_train, x_test, y_train,y_test = train_test_split(house_x, house_y, test_size =0.3, random_state=42)\n",
    "x_train.shape[0], x_test.shape[0]"
   ]
  },
  {
   "cell_type": "code",
   "execution_count": 8,
   "id": "9250e2d4",
   "metadata": {},
   "outputs": [],
   "source": [
    "from sklearn.linear_model import LinearRegression\n",
    "\n",
    "model = LinearRegression()\n"
   ]
  },
  {
   "cell_type": "code",
   "execution_count": 9,
   "id": "193ed0dd",
   "metadata": {},
   "outputs": [
    {
     "data": {
      "text/html": [
       "<style>#sk-container-id-1 {color: black;background-color: white;}#sk-container-id-1 pre{padding: 0;}#sk-container-id-1 div.sk-toggleable {background-color: white;}#sk-container-id-1 label.sk-toggleable__label {cursor: pointer;display: block;width: 100%;margin-bottom: 0;padding: 0.3em;box-sizing: border-box;text-align: center;}#sk-container-id-1 label.sk-toggleable__label-arrow:before {content: \"▸\";float: left;margin-right: 0.25em;color: #696969;}#sk-container-id-1 label.sk-toggleable__label-arrow:hover:before {color: black;}#sk-container-id-1 div.sk-estimator:hover label.sk-toggleable__label-arrow:before {color: black;}#sk-container-id-1 div.sk-toggleable__content {max-height: 0;max-width: 0;overflow: hidden;text-align: left;background-color: #f0f8ff;}#sk-container-id-1 div.sk-toggleable__content pre {margin: 0.2em;color: black;border-radius: 0.25em;background-color: #f0f8ff;}#sk-container-id-1 input.sk-toggleable__control:checked~div.sk-toggleable__content {max-height: 200px;max-width: 100%;overflow: auto;}#sk-container-id-1 input.sk-toggleable__control:checked~label.sk-toggleable__label-arrow:before {content: \"▾\";}#sk-container-id-1 div.sk-estimator input.sk-toggleable__control:checked~label.sk-toggleable__label {background-color: #d4ebff;}#sk-container-id-1 div.sk-label input.sk-toggleable__control:checked~label.sk-toggleable__label {background-color: #d4ebff;}#sk-container-id-1 input.sk-hidden--visually {border: 0;clip: rect(1px 1px 1px 1px);clip: rect(1px, 1px, 1px, 1px);height: 1px;margin: -1px;overflow: hidden;padding: 0;position: absolute;width: 1px;}#sk-container-id-1 div.sk-estimator {font-family: monospace;background-color: #f0f8ff;border: 1px dotted black;border-radius: 0.25em;box-sizing: border-box;margin-bottom: 0.5em;}#sk-container-id-1 div.sk-estimator:hover {background-color: #d4ebff;}#sk-container-id-1 div.sk-parallel-item::after {content: \"\";width: 100%;border-bottom: 1px solid gray;flex-grow: 1;}#sk-container-id-1 div.sk-label:hover label.sk-toggleable__label {background-color: #d4ebff;}#sk-container-id-1 div.sk-serial::before {content: \"\";position: absolute;border-left: 1px solid gray;box-sizing: border-box;top: 0;bottom: 0;left: 50%;z-index: 0;}#sk-container-id-1 div.sk-serial {display: flex;flex-direction: column;align-items: center;background-color: white;padding-right: 0.2em;padding-left: 0.2em;position: relative;}#sk-container-id-1 div.sk-item {position: relative;z-index: 1;}#sk-container-id-1 div.sk-parallel {display: flex;align-items: stretch;justify-content: center;background-color: white;position: relative;}#sk-container-id-1 div.sk-item::before, #sk-container-id-1 div.sk-parallel-item::before {content: \"\";position: absolute;border-left: 1px solid gray;box-sizing: border-box;top: 0;bottom: 0;left: 50%;z-index: -1;}#sk-container-id-1 div.sk-parallel-item {display: flex;flex-direction: column;z-index: 1;position: relative;background-color: white;}#sk-container-id-1 div.sk-parallel-item:first-child::after {align-self: flex-end;width: 50%;}#sk-container-id-1 div.sk-parallel-item:last-child::after {align-self: flex-start;width: 50%;}#sk-container-id-1 div.sk-parallel-item:only-child::after {width: 0;}#sk-container-id-1 div.sk-dashed-wrapped {border: 1px dashed gray;margin: 0 0.4em 0.5em 0.4em;box-sizing: border-box;padding-bottom: 0.4em;background-color: white;}#sk-container-id-1 div.sk-label label {font-family: monospace;font-weight: bold;display: inline-block;line-height: 1.2em;}#sk-container-id-1 div.sk-label-container {text-align: center;}#sk-container-id-1 div.sk-container {/* jupyter's `normalize.less` sets `[hidden] { display: none; }` but bootstrap.min.css set `[hidden] { display: none !important; }` so we also need the `!important` here to be able to override the default hidden behavior on the sphinx rendered scikit-learn.org. See: https://github.com/scikit-learn/scikit-learn/issues/21755 */display: inline-block !important;position: relative;}#sk-container-id-1 div.sk-text-repr-fallback {display: none;}</style><div id=\"sk-container-id-1\" class=\"sk-top-container\"><div class=\"sk-text-repr-fallback\"><pre>LinearRegression()</pre><b>In a Jupyter environment, please rerun this cell to show the HTML representation or trust the notebook. <br />On GitHub, the HTML representation is unable to render, please try loading this page with nbviewer.org.</b></div><div class=\"sk-container\" hidden><div class=\"sk-item\"><div class=\"sk-estimator sk-toggleable\"><input class=\"sk-toggleable__control sk-hidden--visually\" id=\"sk-estimator-id-1\" type=\"checkbox\" checked><label for=\"sk-estimator-id-1\" class=\"sk-toggleable__label sk-toggleable__label-arrow\">LinearRegression</label><div class=\"sk-toggleable__content\"><pre>LinearRegression()</pre></div></div></div></div></div>"
      ],
      "text/plain": [
       "LinearRegression()"
      ]
     },
     "execution_count": 9,
     "metadata": {},
     "output_type": "execute_result"
    }
   ],
   "source": [
    "#trainning the model \n",
    "model.fit(x_train, y_train)  "
   ]
  },
  {
   "cell_type": "code",
   "execution_count": 10,
   "id": "4bd700fd",
   "metadata": {},
   "outputs": [
    {
     "data": {
      "text/plain": [
       "array([[ 0.07949157,  0.00028905, -0.00028666]])"
      ]
     },
     "execution_count": 10,
     "metadata": {},
     "output_type": "execute_result"
    }
   ],
   "source": [
    "# Linear model coefficients\n",
    "coefficents =model.coef_\n",
    "coefficents"
   ]
  },
  {
   "cell_type": "code",
   "execution_count": 11,
   "id": "ba1af7aa",
   "metadata": {},
   "outputs": [
    {
     "data": {
      "text/plain": [
       "array([0.03971078])"
      ]
     },
     "execution_count": 11,
     "metadata": {},
     "output_type": "execute_result"
    }
   ],
   "source": [
    "#Linear model intercept\n",
    "intercpt= model.intercept_\n",
    "intercpt"
   ]
  },
  {
   "cell_type": "code",
   "execution_count": 12,
   "id": "29498693",
   "metadata": {},
   "outputs": [],
   "source": [
    "#The regression ststistical formular\n",
    "#y = 0.0397 + 0.07949TAX+ 0.00029FLOORS-0.00029ROOMS"
   ]
  },
  {
   "cell_type": "code",
   "execution_count": 13,
   "id": "60571f49",
   "metadata": {},
   "outputs": [
    {
     "data": {
      "text/plain": [
       "((1741, 1),\n",
       " array([[306.31930765],\n",
       "        [305.20642564],\n",
       "        [239.22856522],\n",
       "        ...,\n",
       "        [297.41654061],\n",
       "        [582.3932537 ],\n",
       "        [383.58483159]]))"
      ]
     },
     "execution_count": 13,
     "metadata": {},
     "output_type": "execute_result"
    }
   ],
   "source": [
    "#predicting the test data\n",
    "y_prediction_test = model.predict(x_test)\n",
    "y_prediction_test.shape,y_prediction_test"
   ]
  },
  {
   "cell_type": "code",
   "execution_count": 14,
   "id": "9d82bd8b",
   "metadata": {},
   "outputs": [
    {
     "data": {
      "text/plain": [
       "array([[412.59868213]])"
      ]
     },
     "execution_count": 14,
     "metadata": {},
     "output_type": "execute_result"
    }
   ],
   "source": [
    "#predicting the value of a single home\n",
    "my_house = [[5190, 2 ,10]]\n",
    "\n",
    "model.predict(my_house)"
   ]
  },
  {
   "cell_type": "code",
   "execution_count": 15,
   "id": "c6bb5277",
   "metadata": {},
   "outputs": [
    {
     "data": {
      "text/plain": [
       "0.9999999499089725"
      ]
     },
     "execution_count": 15,
     "metadata": {},
     "output_type": "execute_result"
    }
   ],
   "source": [
    "#r2 perfomance measurement\n",
    "from sklearn.metrics import r2_score\n",
    "r2_score(y_test, y_prediction_test)"
   ]
  },
  {
   "cell_type": "code",
   "execution_count": 16,
   "id": "e79562a7",
   "metadata": {},
   "outputs": [
    {
     "data": {
      "text/plain": [
       "0.01973323924212563"
      ]
     },
     "execution_count": 16,
     "metadata": {},
     "output_type": "execute_result"
    }
   ],
   "source": [
    "# mean absolute error perfomance measurement\n",
    "from sklearn.metrics import mean_absolute_error\n",
    "mean_absolute_error(y_test, y_prediction_test)"
   ]
  },
  {
   "cell_type": "code",
   "execution_count": 18,
   "id": "92b38b0b",
   "metadata": {},
   "outputs": [
    {
     "data": {
      "text/plain": [
       "(      TOTAL_VALUE  y_prediction_test\n",
       " 5070        306.3         306.319308\n",
       " 1103        305.2         305.206426\n",
       " 812         239.2         239.228565\n",
       " 1632        396.5         396.462753\n",
       " 1128        322.5         322.535591\n",
       " ...           ...                ...\n",
       " 5648        356.8         356.796458\n",
       " 5126        407.4         407.432590\n",
       " 1338        297.4         297.416541\n",
       " 3885        582.4         582.393254\n",
       " 4269        383.6         383.584832\n",
       " \n",
       " [1741 rows x 2 columns],\n",
       " array([[306.31930765],\n",
       "        [305.20642564],\n",
       "        [239.22856522],\n",
       "        ...,\n",
       "        [297.41654061],\n",
       "        [582.3932537 ],\n",
       "        [383.58483159]]))"
      ]
     },
     "execution_count": 18,
     "metadata": {},
     "output_type": "execute_result"
    }
   ],
   "source": [
    "#comparing the actual and predicted value\n",
    "y_test, y_prediction_test"
   ]
  }
 ],
 "metadata": {
  "kernelspec": {
   "display_name": "Python 3 (ipykernel)",
   "language": "python",
   "name": "python3"
  },
  "language_info": {
   "codemirror_mode": {
    "name": "ipython",
    "version": 3
   },
   "file_extension": ".py",
   "mimetype": "text/x-python",
   "name": "python",
   "nbconvert_exporter": "python",
   "pygments_lexer": "ipython3",
   "version": "3.10.9"
  }
 },
 "nbformat": 4,
 "nbformat_minor": 5
}
